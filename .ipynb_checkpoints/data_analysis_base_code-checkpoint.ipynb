{
 "cells": [
  {
   "cell_type": "markdown",
   "metadata": {},
   "source": [
    "# 1. Library Setting & Data Load"
   ]
  },
  {
   "cell_type": "code",
   "execution_count": null,
   "metadata": {},
   "outputs": [],
   "source": [
    "import pandas as pd                         # 데이터 분석 패키지\n",
    "import numpy as np                          # 계산 패키지\n",
    "\n",
    "import os\n",
    "os.listdir('../data') #본인의 경로 설정"
   ]
  },
  {
   "cell_type": "code",
   "execution_count": null,
   "metadata": {},
   "outputs": [],
   "source": [
    "datapath = '../data/' \n",
    "\n",
    "train = pd.read_csv(datapath + 'train.csv')\n",
    "test = pd.read_csv(datapath + 'test.csv')\n",
    "submission = pd.read_csv(datapath + 'sample_submission.csv')"
   ]
  },
  {
   "cell_type": "code",
   "execution_count": null,
   "metadata": {},
   "outputs": [],
   "source": [
    "#column명과 dataframe을 대입하면 왜도와 첨도를 수치로 알려주고 모두 그래프로 그려줍니다.\n",
    "import math\n",
    "import seaborn as sns                   # 데이터 시각화 라이브러리\n",
    "import matplotlib.pyplot as plt         # 데이터 시각화 라이브러리\n",
    "\n",
    "def ske_kur_check(columns, df, figsize = (15,10)):\n",
    "    num = len(columns)\n",
    "\n",
    "    row_num = math.ceil(num/2)\n",
    "\n",
    "    f, ax = plt.subplots(row_num, 2, figsize = figsize)\n",
    "\n",
    "    count = 0\n",
    "\n",
    "    try:\n",
    "        for row in range(row_num):\n",
    "  \n",
    "          for col in range(2):\n",
    "            sns.distplot(df[columns[count]], ax=ax[row][col])\n",
    "            print(\"%s -> Skewness: %f, Kurtosis: %f\" %  (columns[count],df[columns[count]].skew(),\n",
    "                                                 df[columns[count]].kurt()))\n",
    "            count += 1\n",
    "\n",
    "    except IndexError:\n",
    "        print('columns count is odd')"
   ]
  },
  {
   "cell_type": "markdown",
   "metadata": {},
   "source": [
    "# 2.Data Description"
   ]
  },
  {
   "cell_type": "markdown",
   "metadata": {},
   "source": [
    "#### train\n",
    "* id : 구분자\n",
    "* rho : 측정 거리 (단위: mm)\n",
    "* src : 광원 스펙트럼 (650 nm ~ 990 nm)\n",
    "* dst : 측정 스펙트럼 (650 nm ~ 990 nm)\n",
    "* hhb : 디옥시헤모글로빈 농도\n",
    "* hbo2 : 옥시헤모글로빈 농도\n",
    "* ca : 칼슘 농도\n",
    "* na : 나트륨 농도\n",
    "\n",
    "#### test\n",
    "* id : 구분자\n",
    "* rho : 측정 거리 (단위: mm)\n",
    "* src : 광원 스펙트럼 (650 nm ~ 990 nm)\n",
    "* dst : 측정 스펙트럼 (650 nm ~ 990 nm)\n",
    "\n",
    "#### submission\n",
    "* hhb : 디옥시헤모글로빈 농도\n",
    "* hbo2 : 옥시헤모글로빈 농도\n",
    "* ca : 칼슘 농도\n",
    "* na : 나트륨 농도"
   ]
  },
  {
   "cell_type": "code",
   "execution_count": null,
   "metadata": {},
   "outputs": [],
   "source": [
    "train.head()"
   ]
  },
  {
   "cell_type": "code",
   "execution_count": null,
   "metadata": {},
   "outputs": [],
   "source": [
    "test.head()"
   ]
  },
  {
   "cell_type": "code",
   "execution_count": null,
   "metadata": {},
   "outputs": [],
   "source": [
    "#결측값 및 데이터형태 확인\n",
    "train.info()"
   ]
  },
  {
   "cell_type": "markdown",
   "metadata": {},
   "source": [
    "# 3.데이터 탐색 - EDA (Exploratory Data Analysis)"
   ]
  },
  {
   "cell_type": "markdown",
   "metadata": {},
   "source": [
    "## 상관관계 확인 (Correlation Check)"
   ]
  },
  {
   "cell_type": "markdown",
   "metadata": {},
   "source": [
    "# 4.데이터 가공 - Data Engineering"
   ]
  },
  {
   "cell_type": "markdown",
   "metadata": {},
   "source": [
    "# 5.Model Traing & Validation"
   ]
  },
  {
   "cell_type": "code",
   "execution_count": null,
   "metadata": {},
   "outputs": [],
   "source": [
    "from datetime import datetime\n",
    "from pytz import timezone\n",
    "\n",
    "date_today = datetime.now(timezone('Asia/Seoul')).strftime(\"%Y%m%dT%H%M\")\n",
    "print('today time : ' + date_today)\n",
    "\n",
    "submission.to_csv(datapath + 'submission/{}.csv'.format(date_today), index=False)"
   ]
  }
 ],
 "metadata": {
  "kernelspec": {
   "display_name": "Python 3",
   "language": "python",
   "name": "python3"
  },
  "language_info": {
   "codemirror_mode": {
    "name": "ipython",
    "version": 3
   },
   "file_extension": ".py",
   "mimetype": "text/x-python",
   "name": "python",
   "nbconvert_exporter": "python",
   "pygments_lexer": "ipython3",
   "version": "3.7.4"
  }
 },
 "nbformat": 4,
 "nbformat_minor": 2
}
